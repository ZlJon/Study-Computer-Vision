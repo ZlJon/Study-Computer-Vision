{
 "cells": [
  {
   "cell_type": "markdown",
   "id": "365b94fa",
   "metadata": {},
   "source": [
    "# 12. 이미지 변형 (원근)"
   ]
  },
  {
   "cell_type": "markdown",
   "id": "9c63bce2",
   "metadata": {},
   "source": [
    "## 사다리꼴 이미지 펼치기"
   ]
  },
  {
   "cell_type": "code",
   "execution_count": 1,
   "id": "3a82f1dd",
   "metadata": {},
   "outputs": [],
   "source": [
    "import cv2\n",
    "import numpy as np\n",
    "\n",
    "\n",
    "img = cv2.imread('newspaper.jpg')\n",
    "\n",
    "width, height = 640, 240 # 가로 크기 640, 세로 크기 240으로 결과물 출력\n",
    "\n",
    "src = np.array([[511, 352], [1008, 345], [1122, 584], [455, 594]], dtype=np.float32) #input 4개 지점 # [x, y] (시계 방향으로 점 위치를 찍는 느낌으로) \n",
    "dst = np.array([[0, 0],[width, 0],[width, height],[0, height]], dtype=np.float32) #output 4개 지점\n",
    "# 좌상, 우상, 우하, 좌하(시계 방향으로 4개 지점 정의)\n",
    "\n",
    "matrix = cv2.getPerspectiveTransform(src, dst) # Matrix 얻어옴.\n",
    "result = cv2.warpPerspective(img, matrix, (width, height)) # matrix 대로 변환을 함\n",
    "\n",
    "cv2.imshow('img', img)\n",
    "cv2.imshow('result', result)\n",
    "cv2.waitKey(0)\n",
    "cv2.destroyAllWindows()"
   ]
  },
  {
   "cell_type": "markdown",
   "id": "1d9a9c07",
   "metadata": {},
   "source": [
    "### 회전된 이미지 올바로 세우기"
   ]
  },
  {
   "cell_type": "code",
   "execution_count": 1,
   "id": "ce45b0fd",
   "metadata": {},
   "outputs": [],
   "source": [
    "import cv2\n",
    "import numpy as np\n",
    "\n",
    "\n",
    "img = cv2.imread('poker.jpg')\n",
    "\n",
    "width, height = 530, 710 \n",
    "\n",
    "src = np.array([[702, 143], [1133, 414], [726, 1007], [276, 700]], dtype=np.float32) #input 4개 지점 # [x, y] (시계 방향으로 점 위치를 찍는 느낌으로) \n",
    "dst = np.array([[0, 0],[width, 0],[width, height],[0, height]], dtype=np.float32) #output 4개 지점\n",
    "# 좌상, 우상, 우하, 좌하(시계 방향으로 4개 지점 정의)\n",
    "\n",
    "matrix = cv2.getPerspectiveTransform(src, dst) # Matrix 얻어옴.\n",
    "result = cv2.warpPerspective(img, matrix, (width, height)) # matrix 대로 변환을 함\n",
    "\n",
    "cv2.imshow('img', img)\n",
    "cv2.imshow('result', result)\n",
    "cv2.waitKey(0)\n",
    "cv2.destroyAllWindows()"
   ]
  },
  {
   "cell_type": "markdown",
   "id": "2074538f",
   "metadata": {},
   "source": [
    "## 미니 프로젝트 : 반자동 문서 스캔"
   ]
  },
  {
   "cell_type": "markdown",
   "id": "c8dd9961",
   "metadata": {},
   "source": [
    "### 마우스 이벤트 등록"
   ]
  },
  {
   "cell_type": "code",
   "execution_count": 9,
   "id": "0b4878da",
   "metadata": {},
   "outputs": [
    {
     "name": "stdout",
     "output_type": "stream",
     "text": [
      "왼쪽 버튼 Down\n",
      "295 696\n",
      "왼쪽 버튼 Up\n",
      "295 696\n",
      "왼쪽 버튼 Down\n",
      "708 164\n",
      "왼쪽 버튼 Up\n",
      "708 164\n",
      "왼쪽 버튼 Double click\n",
      "왼쪽 버튼 Up\n",
      "708 164\n",
      "왼쪽 버튼 Down\n",
      "693 965\n",
      "왼쪽 버튼 Up\n",
      "693 965\n",
      "왼쪽 버튼 Double click\n",
      "왼쪽 버튼 Up\n",
      "693 965\n",
      "오른쪽 버튼 Down\n",
      "오른쪽 버튼 Down\n"
     ]
    }
   ],
   "source": [
    "import cv2\n",
    "\n",
    "img = cv2.imread('poker.jpg')\n",
    "\n",
    "def mouse_handler(event, x, y, flags, param):\n",
    "    if event == cv2.EVENT_LBUTTONDOWN: # 마우스 왼쪽 버튼 Down\n",
    "        print('왼쪽 버튼 Down')\n",
    "        print(x, y)\n",
    "    elif event == cv2.EVENT_LBUTTONUP: # 마우스 왼쪽 버튼 UP\n",
    "        print('왼쪽 버튼 Up')\n",
    "        print(x, y)\n",
    "    elif event == cv2.EVENT_LBUTTONDBLCLK: # 마우스 왼쪽 버튼 더블 클릭\n",
    "        print('왼쪽 버튼 Double click')\n",
    "#     elif event == cv2.EVENT_MOUSEMOVE:  # 마우스 이동\n",
    "#         print('마우스 이동')\n",
    "    elif event == cv2.EVENT_RBUTTONDOWN: # 마우스 오른쪽 버튼 Down\n",
    "        print('오른쪽 버튼 Down')\n",
    "        \n",
    "    \n",
    "cv2.namedWindow('img') # img 란 이름의 원도우를 먼저 만들어두는 것, 여기에 마우스 이벤트를 처리하기 위한 핸들러 적용\n",
    "cv2.setMouseCallback('img', mouse_handler)\n",
    "\n",
    "cv2.imshow('img', img)\n",
    "cv2.waitKey(0)\n",
    "cv2.destroyAllWindows()"
   ]
  },
  {
   "cell_type": "markdown",
   "id": "5a35050c",
   "metadata": {},
   "source": [
    "### 프로젝트 "
   ]
  },
  {
   "cell_type": "code",
   "execution_count": 19,
   "id": "50ee53fb",
   "metadata": {},
   "outputs": [],
   "source": [
    "import cv2\n",
    "import numpy as np\n",
    "\n",
    "point_list = []\n",
    "src_img = cv2.imread('poker.jpg')\n",
    "\n",
    "COLOR = (255, 0, 255) # 핑크색\n",
    "THICKNESS = 3\n",
    "drawing = False # 선을 그릴지 여부\n",
    "\n",
    "def mouse_handler(event, x, y, flags, param):\n",
    "    global drawing\n",
    "    dst_img = src_img.copy()\n",
    "    \n",
    "    if event == cv2.EVENT_LBUTTONDOWN: # 마우스 왼쪽 버튼 Down\n",
    "        drawing = True # 선을 그리기 시작\n",
    "        point_list.append((x, y))\n",
    "    if drawing:\n",
    "        prev_point = None # 직선의 시작점\n",
    "        for point in point_list:\n",
    "            cv2.circle(dst_img, point, 15, COLOR, cv2.FILLED) # 불러올 이미지, 중심점, 반지름, 색깔, 가득 채움\n",
    "            if prev_point:\n",
    "                cv2.line(dst_img, prev_point, point, COLOR, THICKNESS, cv2.LINE_AA)\n",
    "            prev_point = point\n",
    "        \n",
    "        next_point = (x, y) \n",
    "        if len(point_list) == 4:\n",
    "            show_result() # 결과 출력\n",
    "            next_point = point_list[0] # 첫 번째 클릭한 지점\n",
    "            \n",
    "        cv2.line(dst_img, prev_point, next_point, COLOR, THICKNESS, cv2.LINE_AA)\n",
    "    \n",
    "\n",
    "    cv2.imshow('img', dst_img)\n",
    "    \n",
    "def show_result():\n",
    "    width, height = 530, 710\n",
    "    src = np.float32(point_list) \n",
    "    dst = np.array([[0, 0],[width, 0],[width, height],[0, height]], dtype=np.float32) #output 4개 지점\n",
    "    # 좌상, 우상, 우하, 좌하(시계 방향으로 4개 지점 정의)\n",
    "\n",
    "    matrix = cv2.getPerspectiveTransform(src, dst) # Matrix 얻어옴.\n",
    "    result = cv2.warpPerspective(src_img, matrix, (width, height)) # matrix 대로 변환을 함\n",
    "    cv2.imshow('result', result)\n",
    "    \n",
    "cv2.namedWindow('img') # img 란 이름의 원도우를 먼저 만들어두는 것, 여기에 마우스 이벤트를 처리하기 위한 핸들러 적용\n",
    "cv2.setMouseCallback('img', mouse_handler)\n",
    "\n",
    "cv2.imshow('img', src_img)\n",
    "cv2.waitKey(0)\n",
    "cv2.destroyAllWindows()"
   ]
  }
 ],
 "metadata": {
  "kernelspec": {
   "display_name": "Python 3 (ipykernel)",
   "language": "python",
   "name": "python3"
  },
  "language_info": {
   "codemirror_mode": {
    "name": "ipython",
    "version": 3
   },
   "file_extension": ".py",
   "mimetype": "text/x-python",
   "name": "python",
   "nbconvert_exporter": "python",
   "pygments_lexer": "ipython3",
   "version": "3.9.12"
  }
 },
 "nbformat": 4,
 "nbformat_minor": 5
}
